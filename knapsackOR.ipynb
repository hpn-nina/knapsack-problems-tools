{
 "metadata": {
  "language_info": {
   "codemirror_mode": {
    "name": "ipython",
    "version": 3
   },
   "file_extension": ".py",
   "mimetype": "text/x-python",
   "name": "python",
   "nbconvert_exporter": "python",
   "pygments_lexer": "ipython3",
   "version": "3.9.4"
  },
  "orig_nbformat": 2,
  "kernelspec": {
   "name": "python394jvsc74a57bd063fd5069d213b44bf678585dea6b12cceca9941eaf7f819626cde1f2670de90d",
   "display_name": "Python 3.9.4 64-bit"
  },
  "metadata": {
   "interpreter": {
    "hash": "63fd5069d213b44bf678585dea6b12cceca9941eaf7f819626cde1f2670de90d"
   }
  }
 },
 "nbformat": 4,
 "nbformat_minor": 2,
 "cells": [
  {
   "cell_type": "code",
   "execution_count": 2,
   "metadata": {},
   "outputs": [],
   "source": [
    "#The test case format is:\n",
    "#n\n",
    "#c\n",
    "#Empty row\n",
    "#p_1 w_1\n",
    "#until \n",
    "#p_n w_n"
   ]
  },
  {
   "cell_type": "code",
   "execution_count": 2,
   "metadata": {},
   "outputs": [],
   "source": [
    "from ortools.algorithms import pywrapknapsack_solver\n",
    "#This is from the first file from gg developer\n",
    "import pandas as pd\n",
    "import numpy as np\n",
    "import time\n",
    "import csv"
   ]
  },
  {
   "cell_type": "code",
   "execution_count": 3,
   "metadata": {},
   "outputs": [],
   "source": [
    "def set_time_limit(self, time_limit_seconds: \"double\") -> \"void\":\n",
    "    r\"\"\"\n",
    "     Time limit in seconds.\n",
    "\n",
    "    When a finite time limit is set the solution obtained might not be optimal\n",
    "    if the limit is reached.\n",
    "    \"\"\"\n",
    "    return _pywrapknapsack_solver.KnapsackSolver_set_time_limit(self, time_limit_seconds)\n",
    "\n"
   ]
  },
  {
   "cell_type": "code",
   "execution_count": 4,
   "metadata": {},
   "outputs": [],
   "source": [
    "solver = pywrapknapsack_solver.KnapsackSolver(\n",
    "    pywrapknapsack_solver.KnapsackSolver.\n",
    "    KNAPSACK_MULTIDIMENSION_BRANCH_AND_BOUND_SOLVER, 'KnapsackExample')\n",
    "solver.set_time_limit(300)"
   ]
  },
  {
   "cell_type": "code",
   "execution_count": 4,
   "metadata": {
    "tags": []
   },
   "outputs": [
    {
     "output_type": "stream",
     "name": "stdout",
     "text": [
      "00Uncorrelated,50,20995,0.0009982585906982422\n\n00Uncorrelated,1000,400811,0.011001348495483398\n\n00Uncorrelated,200,84317,0.0009951591491699219\n\n00Uncorrelated,500,207992,0.001001119613647461\n\n00Uncorrelated,1000,418472,0.005997896194458008\n\n01WeaklyCorrelated,50,15768,0.0010025501251220703\n\n01WeaklyCorrelated,100,31064,0.0009980201721191406\n\n01WeaklyCorrelated,200,56976,0.000997781753540039\n\n01WeaklyCorrelated,500,139258,0.002995014190673828\n\n01WeaklyCorrelated,1000,273052,0.009997367858886719\n\n02StronglyCorrelated,50,17539,0.024996280670166016\n\n"
     ]
    }
   ],
   "source": [
    "with open('./resultOrtools.txt', 'w+') as writer:\n",
    "    writer.write('Test,items,Value,Time\\n')\n",
    "    for test in ['00Uncorrelated','01WeaklyCorrelated','02StronglyCorrelated','03InverseStronglyCorrelated','04AlmostStronglyCorrelated','05SubsetSum','06UncorrelatedWithSimilarWeights','07SpannerUncorrelated','08SpannerWeaklyCorrelated','09SpannerStronglyCorrelated','10MultipleStronglyCorrelated','11ProfitCeiling','12Circle']:\n",
    "        for testno in ['n00050','n00100','n00200','n00500','n01000']:\n",
    "\n",
    "            fileName = './knapsackOR/' + test + '/' + testno + '.kp'\n",
    "            with open(fileName,'r') as testcase:\n",
    "                data = testcase.readlines()\n",
    "\n",
    "                items = int(data[1])\n",
    "                capacities = [int(data[2])]\n",
    "            \n",
    "                values = []\n",
    "                weights= [[]]\n",
    "            \n",
    "                for i in range(0,items):\n",
    "                    value, weight = data[4+i].split()\n",
    "                    values.append(int(value))\n",
    "                    weights[0].append(int(weight))\n",
    "\n",
    "                start = time.time()\n",
    "                solver.Init(values, weights, capacities)\n",
    "                computedValue = solver.Solve()\n",
    "                end = time.time()\n",
    "        \n",
    "                l = f'{test},{items},{computedValue},{end-start}\\n'\n",
    "                print(l)\n",
    "                writer.write(l)\n"
   ]
  },
  {
   "cell_type": "code",
   "execution_count": null,
   "metadata": {},
   "outputs": [],
   "source": []
  }
 ]
}